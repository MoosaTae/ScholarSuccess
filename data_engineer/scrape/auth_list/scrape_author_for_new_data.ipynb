{
 "cells": [
  {
   "cell_type": "code",
   "execution_count": 2,
   "metadata": {},
   "outputs": [],
   "source": [
    "import json\n",
    "import os\n",
    "import requests\n",
    "\n",
    "# input_dir = f\"{destination_base}/2013\""
   ]
  },
  {
   "cell_type": "code",
   "execution_count": 5,
   "metadata": {},
   "outputs": [],
   "source": [
    "def fetchContentAbstract(url):\n",
    "    headers = {\n",
    "        'X-ELS-APIKey': API_KEY,\n",
    "        'Accept': 'application/json'\n",
    "    }\n",
    "\n",
    "    response = requests.get(url, headers=headers)\n",
    "\n",
    "    if response.status_code == 200:\n",
    "        data = response.json()\n",
    "\n",
    "        creator = data['abstracts-retrieval-response']['coredata'].get('dc:creator', None)\n",
    "        if creator is not None:\n",
    "            creator = data['abstracts-retrieval-response']['coredata']['dc:creator']['author']\n",
    "\n",
    "        source_id = data['abstracts-retrieval-response']['coredata'].get('source-id', None)\n",
    "        \n",
    "        return creator, source_id\n",
    "    else:\n",
    "        print(f\"Error: {response.status_code}\")"
   ]
  },
  {
   "cell_type": "code",
   "execution_count": null,
   "metadata": {},
   "outputs": [],
   "source": [
    "input_dir = f\"{destination_base}/2013\"\n",
    "\n",
    "files = [f\"{input_dir}/{file}\" for file in os.listdir(input_dir) if file.endswith(\".json\")]\n",
    "\n",
    "for file in files:\n",
    "    with open(file, 'r') as f:\n",
    "        data = json.load(f)\n",
    "        \n",
    "        for paper in data:\n",
    "            print(\"Fetching content abstract for\", paper['prism:doi'])\n",
    "\n",
    "            author, source_id = fetchContentAbstract(paper['prism:url'])\n",
    "            \n",
    "            if author is not None:\n",
    "                paper['author'] = author\n",
    "            if source_id is not None:\n",
    "                paper['source-id'] = source_id\n",
    "\n",
    "        # with open(f\"{os.path.splitext(file)[0]}_fetchContentAbstract.json\", 'w') as f:\n",
    "        #     json.dump(data, f, indent=4)\n",
    "        \n",
    "        break"
   ]
  },
  {
   "cell_type": "code",
   "execution_count": 3,
   "metadata": {},
   "outputs": [],
   "source": [
    "import os\n",
    "import json\n",
    "import requests\n",
    "import time\n",
    "import random\n",
    "import logging\n",
    "from concurrent.futures import ThreadPoolExecutor, as_completed\n",
    "import tqdm\n",
    "\n",
    "# Configure logging\n",
    "logging.basicConfig(\n",
    "    level=logging.INFO,\n",
    "    format='%(asctime)s - %(levelname)s: %(message)s',\n",
    "    handlers=[\n",
    "        logging.FileHandler('content_abstract_fetch.log', mode='w'),\n",
    "        logging.StreamHandler()\n",
    "    ]\n",
    ")\n",
    "logger = logging.getLogger(__name__)"
   ]
  },
  {
   "cell_type": "code",
   "execution_count": 4,
   "metadata": {},
   "outputs": [],
   "source": [
    "class RateLimitHandler:\n",
    "    def __init__(self, api_key, max_retries=3):\n",
    "        self.api_key = api_key\n",
    "        self.max_retries = max_retries\n",
    "        self.session = requests.Session()\n",
    "\n",
    "    def fetch_with_retry(self, url, doi):\n",
    "        headers = {\n",
    "            'X-ELS-APIKey': self.api_key,\n",
    "            'Accept': 'application/json'\n",
    "        }\n",
    "\n",
    "        for attempt in range(self.max_retries):\n",
    "            try:\n",
    "                response = self.session.get(url, headers=headers, timeout=10)\n",
    "                \n",
    "                if response.status_code == 429:\n",
    "                    # Exponential backoff with jitter\n",
    "                    wait_time = min(60, (2 ** attempt) + random.uniform(0, 1))\n",
    "                    logger.warning(f\"Rate limited. Waiting {wait_time} seconds for DOI {doi}...\")\n",
    "                    time.sleep(wait_time)\n",
    "                    continue\n",
    "                \n",
    "                if response.status_code != 200:\n",
    "                    logger.error(f\"Unexpected status code {response.status_code} for DOI {doi}\")\n",
    "                    return None\n",
    "                \n",
    "                return response.json()\n",
    "            \n",
    "            except requests.exceptions.RequestException as e:\n",
    "                logger.error(f\"Error fetching {url} for DOI {doi} (Attempt {attempt + 1}): {e}\")\n",
    "                \n",
    "                # If it's the last attempt, return None\n",
    "                if attempt == self.max_retries - 1:\n",
    "                    return None\n",
    "                \n",
    "                # Wait a bit before retrying\n",
    "                time.sleep(1)\n",
    "        \n",
    "        return None"
   ]
  },
  {
   "cell_type": "code",
   "execution_count": 5,
   "metadata": {},
   "outputs": [],
   "source": [
    "def fetchContentAbstract(paper, rate_limiter):\n",
    "    try:\n",
    "        doi = paper['prism:doi']\n",
    "        url = paper['prism:url']\n",
    "        \n",
    "        data = rate_limiter.fetch_with_retry(url, doi)\n",
    "        \n",
    "        if data is None:\n",
    "            logger.warning(f\"No data retrieved for DOI: {doi}\")\n",
    "            return None\n",
    "        \n",
    "        try:\n",
    "            # More robust data extraction with extensive logging\n",
    "            creator = data.get('abstracts-retrieval-response', {}) \\\n",
    "                        .get('coredata', {}) \\\n",
    "                        .get('dc:creator', None)\n",
    "            \n",
    "            if creator is not None:\n",
    "                # Handle different possible structures of creator\n",
    "                if isinstance(creator, dict):\n",
    "                    creator = creator.get('author')\n",
    "                elif isinstance(creator, list):\n",
    "                    creator = [a.get('author', a) for a in creator]\n",
    "            \n",
    "            source_id = data.get('abstracts-retrieval-response', {}) \\\n",
    "                           .get('coredata', {}) \\\n",
    "                           .get('source-id', None)\n",
    "            \n",
    "            return {\n",
    "                'doi': doi,\n",
    "                'author': creator,\n",
    "                'source_id': source_id\n",
    "            }\n",
    "        \n",
    "        except Exception as parse_error:\n",
    "            logger.error(f\"Error parsing data for DOI {doi}: {parse_error}\")\n",
    "            logger.error(f\"Problematic data structure: {data}\")\n",
    "            return None\n",
    "    \n",
    "    except Exception as e:\n",
    "        logger.error(f\"Processing error for DOI {doi}: {e}\")\n",
    "        return None"
   ]
  },
  {
   "cell_type": "code",
   "execution_count": 6,
   "metadata": {},
   "outputs": [],
   "source": [
    "def process_file(file_path, api_key, max_workers=3):\n",
    "    # Read input file\n",
    "    with open(file_path, 'r') as f:\n",
    "        data = json.load(f)\n",
    "    \n",
    "    # Initialize rate limiter\n",
    "    rate_limiter = RateLimitHandler(api_key)\n",
    "    \n",
    "    # Track processed papers\n",
    "    processed_data = data.copy()\n",
    "    \n",
    "    logger.info(f\"Processing {len(data)} papers from {file_path}\")\n",
    "    \n",
    "    # Track successful and failed retrievals\n",
    "    successful_retrievals = 0\n",
    "    failed_retrievals = 0\n",
    "    \n",
    "    # Use ThreadPoolExecutor for concurrent processing\n",
    "    with ThreadPoolExecutor(max_workers=max_workers) as executor:\n",
    "        # Progress bar\n",
    "        progress_bar = tqdm.tqdm(total=len(data), desc=\"Fetching Abstracts\", unit=\"paper\")\n",
    "        \n",
    "        # Submit all tasks\n",
    "        futures = {\n",
    "            executor.submit(fetchContentAbstract, paper, rate_limiter): paper \n",
    "            for paper in data\n",
    "        }\n",
    "        \n",
    "        # Process results as they complete\n",
    "        for future in as_completed(futures):\n",
    "            original_paper = futures[future]\n",
    "            result = future.result()\n",
    "            \n",
    "            # Update progress\n",
    "            progress_bar.update(1)\n",
    "            \n",
    "            if result:\n",
    "                # Find and update the corresponding paper\n",
    "                for updated_paper in processed_data:\n",
    "                    if updated_paper['prism:doi'] == result['doi']:\n",
    "                        if result['author'] is not None:\n",
    "                            updated_paper['author'] = result['author']\n",
    "                        if result['source_id'] is not None:\n",
    "                            updated_paper['source-id'] = result['source_id']\n",
    "                        successful_retrievals += 1\n",
    "                        break\n",
    "            else:\n",
    "                failed_retrievals += 1\n",
    "        \n",
    "        # Close progress bar\n",
    "        progress_bar.close()\n",
    "    \n",
    "    # Write updated data\n",
    "    output_file = f\"{os.path.splitext(file_path)[0]}_fetchContentAbstract.json\"\n",
    "    with open(output_file, 'w') as f:\n",
    "        json.dump(processed_data, f, indent=4)\n",
    "    \n",
    "    # Log detailed retrieval statistics\n",
    "    logger.info(f\"Retrieval Statistics for {file_path}:\")\n",
    "    logger.info(f\"Total Papers: {len(data)}\")\n",
    "    logger.info(f\"Successful Retrievals: {successful_retrievals}\")\n",
    "    logger.info(f\"Failed Retrievals: {failed_retrievals}\")\n",
    "    logger.info(f\"Success Rate: {successful_retrievals/len(data)*100:.2f}%\")\n",
    "    \n",
    "    print(f\"Completed processing: {output_file}\")\n",
    "    return output_file"
   ]
  },
  {
   "cell_type": "code",
   "execution_count": 7,
   "metadata": {},
   "outputs": [],
   "source": [
    "def main(input_dir, api_key):\n",
    "    start_time = time.time()\n",
    "    \n",
    "    files = [f\"{input_dir}/{file}\" for file in os.listdir(input_dir) if file.endswith(\".json\")]\n",
    "    \n",
    "    for file in files:\n",
    "        print(f\"Processing {file}\")\n",
    "        process_file(file, api_key)\n",
    "    \n",
    "    end_time = time.time()\n",
    "    print(f\"Total processing time: {end_time - start_time:.2f} seconds\")"
   ]
  },
  {
   "cell_type": "code",
   "execution_count": null,
   "metadata": {},
   "outputs": [
    {
     "name": "stderr",
     "output_type": "stream",
     "text": [
      "2024-12-05 07:08:22,476 - INFO: Processing 1250 papers from JsonFile_Scrape/2015/2015_conference_paper_not_proceeding.json\n"
     ]
    },
    {
     "name": "stdout",
     "output_type": "stream",
     "text": [
      "Processing JsonFile_Scrape/2015/2015_conference_paper_not_proceeding.json\n"
     ]
    },
    {
     "name": "stderr",
     "output_type": "stream",
     "text": [
      "Fetching Abstracts: 100%|██████████| 1250/1250 [03:07<00:00,  6.68paper/s]\n",
      "2024-12-05 07:11:29,769 - INFO: Retrieval Statistics for JsonFile_Scrape/2015/2015_conference_paper_not_proceeding.json:\n",
      "2024-12-05 07:11:29,770 - INFO: Total Papers: 1250\n",
      "2024-12-05 07:11:29,771 - INFO: Successful Retrievals: 1250\n",
      "2024-12-05 07:11:29,772 - INFO: Failed Retrievals: 0\n",
      "2024-12-05 07:11:29,774 - INFO: Success Rate: 100.00%\n",
      "2024-12-05 07:11:29,841 - INFO: Processing 1250 papers from JsonFile_Scrape/2015/2015_conference_paper_proceeding.json\n"
     ]
    },
    {
     "name": "stdout",
     "output_type": "stream",
     "text": [
      "Completed processing: JsonFile_Scrape/2015/2015_conference_paper_not_proceeding_fetchContentAbstract.json\n",
      "Processing JsonFile_Scrape/2015/2015_conference_paper_proceeding.json\n"
     ]
    },
    {
     "name": "stderr",
     "output_type": "stream",
     "text": [
      "Fetching Abstracts: 100%|██████████| 1250/1250 [03:04<00:00,  6.79paper/s]\n",
      "2024-12-05 07:14:34,243 - INFO: Retrieval Statistics for JsonFile_Scrape/2015/2015_conference_paper_proceeding.json:\n",
      "2024-12-05 07:14:34,244 - INFO: Total Papers: 1250\n",
      "2024-12-05 07:14:34,245 - INFO: Successful Retrievals: 1250\n",
      "2024-12-05 07:14:34,247 - INFO: Failed Retrievals: 0\n",
      "2024-12-05 07:14:34,248 - INFO: Success Rate: 100.00%\n",
      "2024-12-05 07:14:34,307 - INFO: Processing 1250 papers from JsonFile_Scrape/2015/2015_not_conference_paper_not_proceeding.json\n"
     ]
    },
    {
     "name": "stdout",
     "output_type": "stream",
     "text": [
      "Completed processing: JsonFile_Scrape/2015/2015_conference_paper_proceeding_fetchContentAbstract.json\n",
      "Processing JsonFile_Scrape/2015/2015_not_conference_paper_not_proceeding.json\n"
     ]
    },
    {
     "name": "stderr",
     "output_type": "stream",
     "text": [
      "Fetching Abstracts: 100%|██████████| 1250/1250 [03:06<00:00,  6.71paper/s]\n",
      "2024-12-05 07:17:40,827 - INFO: Retrieval Statistics for JsonFile_Scrape/2015/2015_not_conference_paper_not_proceeding.json:\n",
      "2024-12-05 07:17:40,828 - INFO: Total Papers: 1250\n",
      "2024-12-05 07:17:40,829 - INFO: Successful Retrievals: 1250\n",
      "2024-12-05 07:17:40,830 - INFO: Failed Retrievals: 0\n",
      "2024-12-05 07:17:40,830 - INFO: Success Rate: 100.00%\n",
      "2024-12-05 07:17:40,885 - INFO: Processing 1250 papers from JsonFile_Scrape/2015/2015_not_conference_paper_proceeding.json\n"
     ]
    },
    {
     "name": "stdout",
     "output_type": "stream",
     "text": [
      "Completed processing: JsonFile_Scrape/2015/2015_not_conference_paper_not_proceeding_fetchContentAbstract.json\n",
      "Processing JsonFile_Scrape/2015/2015_not_conference_paper_proceeding.json\n"
     ]
    },
    {
     "name": "stderr",
     "output_type": "stream",
     "text": [
      "Fetching Abstracts: 100%|██████████| 1250/1250 [02:57<00:00,  7.05paper/s]\n",
      "2024-12-05 07:20:38,504 - INFO: Retrieval Statistics for JsonFile_Scrape/2015/2015_not_conference_paper_proceeding.json:\n",
      "2024-12-05 07:20:38,506 - INFO: Total Papers: 1250\n",
      "2024-12-05 07:20:38,507 - INFO: Successful Retrievals: 1250\n",
      "2024-12-05 07:20:38,508 - INFO: Failed Retrievals: 0\n",
      "2024-12-05 07:20:38,509 - INFO: Success Rate: 100.00%\n",
      "2024-12-05 07:20:38,570 - INFO: Processing 1250 papers from JsonFile_Scrape/2016/2016_conference_paper_not_proceeding.json\n"
     ]
    },
    {
     "name": "stdout",
     "output_type": "stream",
     "text": [
      "Completed processing: JsonFile_Scrape/2015/2015_not_conference_paper_proceeding_fetchContentAbstract.json\n",
      "Total processing time: 736.08 seconds\n",
      "Processing JsonFile_Scrape/2016/2016_conference_paper_not_proceeding.json\n"
     ]
    },
    {
     "name": "stderr",
     "output_type": "stream",
     "text": [
      "Fetching Abstracts: 100%|██████████| 1250/1250 [03:03<00:00,  6.80paper/s]\n",
      "2024-12-05 07:23:42,793 - INFO: Retrieval Statistics for JsonFile_Scrape/2016/2016_conference_paper_not_proceeding.json:\n",
      "2024-12-05 07:23:42,794 - INFO: Total Papers: 1250\n",
      "2024-12-05 07:23:42,795 - INFO: Successful Retrievals: 1250\n",
      "2024-12-05 07:23:42,796 - INFO: Failed Retrievals: 0\n",
      "2024-12-05 07:23:42,798 - INFO: Success Rate: 100.00%\n",
      "2024-12-05 07:23:42,902 - INFO: Processing 1250 papers from JsonFile_Scrape/2016/2016_conference_paper_proceeding.json\n"
     ]
    },
    {
     "name": "stdout",
     "output_type": "stream",
     "text": [
      "Completed processing: JsonFile_Scrape/2016/2016_conference_paper_not_proceeding_fetchContentAbstract.json\n",
      "Processing JsonFile_Scrape/2016/2016_conference_paper_proceeding.json\n"
     ]
    },
    {
     "name": "stderr",
     "output_type": "stream",
     "text": [
      "Fetching Abstracts: 100%|██████████| 1250/1250 [03:03<00:00,  6.81paper/s]\n",
      "2024-12-05 07:26:46,568 - INFO: Retrieval Statistics for JsonFile_Scrape/2016/2016_conference_paper_proceeding.json:\n",
      "2024-12-05 07:26:46,570 - INFO: Total Papers: 1250\n",
      "2024-12-05 07:26:46,571 - INFO: Successful Retrievals: 1250\n",
      "2024-12-05 07:26:46,572 - INFO: Failed Retrievals: 0\n",
      "2024-12-05 07:26:46,573 - INFO: Success Rate: 100.00%\n",
      "2024-12-05 07:26:46,640 - INFO: Processing 1250 papers from JsonFile_Scrape/2016/2016_not_conference_paper_not_proceeding.json\n"
     ]
    },
    {
     "name": "stdout",
     "output_type": "stream",
     "text": [
      "Completed processing: JsonFile_Scrape/2016/2016_conference_paper_proceeding_fetchContentAbstract.json\n",
      "Processing JsonFile_Scrape/2016/2016_not_conference_paper_not_proceeding.json\n"
     ]
    },
    {
     "name": "stderr",
     "output_type": "stream",
     "text": [
      "Fetching Abstracts: 100%|██████████| 1250/1250 [03:10<00:00,  6.55paper/s]\n",
      "2024-12-05 07:29:57,860 - INFO: Retrieval Statistics for JsonFile_Scrape/2016/2016_not_conference_paper_not_proceeding.json:\n",
      "2024-12-05 07:29:57,862 - INFO: Total Papers: 1250\n",
      "2024-12-05 07:29:57,863 - INFO: Successful Retrievals: 1250\n",
      "2024-12-05 07:29:57,864 - INFO: Failed Retrievals: 0\n",
      "2024-12-05 07:29:57,867 - INFO: Success Rate: 100.00%\n",
      "2024-12-05 07:29:57,930 - INFO: Processing 1250 papers from JsonFile_Scrape/2016/2016_not_conference_paper_proceeding.json\n"
     ]
    },
    {
     "name": "stdout",
     "output_type": "stream",
     "text": [
      "Completed processing: JsonFile_Scrape/2016/2016_not_conference_paper_not_proceeding_fetchContentAbstract.json\n",
      "Processing JsonFile_Scrape/2016/2016_not_conference_paper_proceeding.json\n"
     ]
    },
    {
     "name": "stderr",
     "output_type": "stream",
     "text": [
      "Fetching Abstracts:  30%|██▉       | 371/1250 [00:54<01:57,  7.46paper/s]2024-12-05 07:30:52,634 - ERROR: Unexpected status code 500 for DOI 10.1109/NANO.2016.7751290\n",
      "2024-12-05 07:30:52,643 - WARNING: No data retrieved for DOI: 10.1109/NANO.2016.7751290\n",
      "Fetching Abstracts: 100%|██████████| 1250/1250 [02:59<00:00,  6.97paper/s]\n",
      "2024-12-05 07:32:57,450 - INFO: Retrieval Statistics for JsonFile_Scrape/2016/2016_not_conference_paper_proceeding.json:\n",
      "2024-12-05 07:32:57,452 - INFO: Total Papers: 1250\n",
      "2024-12-05 07:32:57,453 - INFO: Successful Retrievals: 1249\n",
      "2024-12-05 07:32:57,454 - INFO: Failed Retrievals: 1\n",
      "2024-12-05 07:32:57,456 - INFO: Success Rate: 99.92%\n",
      "2024-12-05 07:32:57,526 - INFO: Processing 1250 papers from JsonFile_Scrape/2017/2017_conference_paper_not_proceeding.json\n"
     ]
    },
    {
     "name": "stdout",
     "output_type": "stream",
     "text": [
      "Completed processing: JsonFile_Scrape/2016/2016_not_conference_paper_proceeding_fetchContentAbstract.json\n",
      "Total processing time: 738.95 seconds\n",
      "Processing JsonFile_Scrape/2017/2017_conference_paper_not_proceeding.json\n"
     ]
    },
    {
     "name": "stderr",
     "output_type": "stream",
     "text": [
      "Fetching Abstracts: 100%|██████████| 1250/1250 [03:02<00:00,  6.84paper/s]\n",
      "2024-12-05 07:36:00,471 - INFO: Retrieval Statistics for JsonFile_Scrape/2017/2017_conference_paper_not_proceeding.json:\n",
      "2024-12-05 07:36:00,473 - INFO: Total Papers: 1250\n",
      "2024-12-05 07:36:00,474 - INFO: Successful Retrievals: 1250\n",
      "2024-12-05 07:36:00,475 - INFO: Failed Retrievals: 0\n",
      "2024-12-05 07:36:00,477 - INFO: Success Rate: 100.00%\n",
      "2024-12-05 07:36:00,547 - INFO: Processing 1250 papers from JsonFile_Scrape/2017/2017_conference_paper_proceeding.json\n"
     ]
    },
    {
     "name": "stdout",
     "output_type": "stream",
     "text": [
      "Completed processing: JsonFile_Scrape/2017/2017_conference_paper_not_proceeding_fetchContentAbstract.json\n",
      "Processing JsonFile_Scrape/2017/2017_conference_paper_proceeding.json\n"
     ]
    },
    {
     "name": "stderr",
     "output_type": "stream",
     "text": [
      "Fetching Abstracts: 100%|██████████| 1250/1250 [03:03<00:00,  6.83paper/s]\n",
      "2024-12-05 07:39:03,872 - INFO: Retrieval Statistics for JsonFile_Scrape/2017/2017_conference_paper_proceeding.json:\n",
      "2024-12-05 07:39:03,874 - INFO: Total Papers: 1250\n",
      "2024-12-05 07:39:03,875 - INFO: Successful Retrievals: 1250\n",
      "2024-12-05 07:39:03,876 - INFO: Failed Retrievals: 0\n",
      "2024-12-05 07:39:03,878 - INFO: Success Rate: 100.00%\n",
      "2024-12-05 07:39:03,948 - INFO: Processing 1250 papers from JsonFile_Scrape/2017/2017_not_conference_paper_not_proceeding.json\n"
     ]
    },
    {
     "name": "stdout",
     "output_type": "stream",
     "text": [
      "Completed processing: JsonFile_Scrape/2017/2017_conference_paper_proceeding_fetchContentAbstract.json\n",
      "Processing JsonFile_Scrape/2017/2017_not_conference_paper_not_proceeding.json\n"
     ]
    },
    {
     "name": "stderr",
     "output_type": "stream",
     "text": [
      "Fetching Abstracts: 100%|██████████| 1250/1250 [03:06<00:00,  6.69paper/s]\n",
      "2024-12-05 07:42:11,028 - INFO: Retrieval Statistics for JsonFile_Scrape/2017/2017_not_conference_paper_not_proceeding.json:\n",
      "2024-12-05 07:42:11,029 - INFO: Total Papers: 1250\n",
      "2024-12-05 07:42:11,030 - INFO: Successful Retrievals: 1250\n",
      "2024-12-05 07:42:11,034 - INFO: Failed Retrievals: 0\n",
      "2024-12-05 07:42:11,035 - INFO: Success Rate: 100.00%\n",
      "2024-12-05 07:42:11,096 - INFO: Processing 1250 papers from JsonFile_Scrape/2017/2017_not_conference_paper_proceeding.json\n"
     ]
    },
    {
     "name": "stdout",
     "output_type": "stream",
     "text": [
      "Completed processing: JsonFile_Scrape/2017/2017_not_conference_paper_not_proceeding_fetchContentAbstract.json\n",
      "Processing JsonFile_Scrape/2017/2017_not_conference_paper_proceeding.json\n"
     ]
    },
    {
     "name": "stderr",
     "output_type": "stream",
     "text": [
      "Fetching Abstracts: 100%|██████████| 1250/1250 [02:58<00:00,  6.99paper/s]\n",
      "2024-12-05 07:45:10,244 - INFO: Retrieval Statistics for JsonFile_Scrape/2017/2017_not_conference_paper_proceeding.json:\n",
      "2024-12-05 07:45:10,245 - INFO: Total Papers: 1250\n",
      "2024-12-05 07:45:10,247 - INFO: Successful Retrievals: 1250\n",
      "2024-12-05 07:45:10,248 - INFO: Failed Retrievals: 0\n",
      "2024-12-05 07:45:10,249 - INFO: Success Rate: 100.00%\n",
      "2024-12-05 07:45:10,318 - INFO: Processing 1155 papers from JsonFile_Scrape/2018/2018_conference_paper_not_proceeding.json\n"
     ]
    },
    {
     "name": "stdout",
     "output_type": "stream",
     "text": [
      "Completed processing: JsonFile_Scrape/2017/2017_not_conference_paper_proceeding_fetchContentAbstract.json\n",
      "Total processing time: 732.79 seconds\n",
      "Processing JsonFile_Scrape/2018/2018_conference_paper_not_proceeding.json\n"
     ]
    },
    {
     "name": "stderr",
     "output_type": "stream",
     "text": [
      "Fetching Abstracts: 100%|██████████| 1155/1155 [02:54<00:00,  6.60paper/s]\n",
      "2024-12-05 07:48:05,556 - INFO: Retrieval Statistics for JsonFile_Scrape/2018/2018_conference_paper_not_proceeding.json:\n",
      "2024-12-05 07:48:05,558 - INFO: Total Papers: 1155\n",
      "2024-12-05 07:48:05,560 - INFO: Successful Retrievals: 1155\n",
      "2024-12-05 07:48:05,561 - INFO: Failed Retrievals: 0\n",
      "2024-12-05 07:48:05,562 - INFO: Success Rate: 100.00%\n",
      "2024-12-05 07:48:05,621 - INFO: Processing 1032 papers from JsonFile_Scrape/2018/2018_conference_paper_proceeding.json\n"
     ]
    },
    {
     "name": "stdout",
     "output_type": "stream",
     "text": [
      "Completed processing: JsonFile_Scrape/2018/2018_conference_paper_not_proceeding_fetchContentAbstract.json\n",
      "Processing JsonFile_Scrape/2018/2018_conference_paper_proceeding.json\n"
     ]
    },
    {
     "name": "stderr",
     "output_type": "stream",
     "text": [
      "Fetching Abstracts: 100%|██████████| 1032/1032 [02:48<00:00,  6.14paper/s]\n",
      "2024-12-05 07:50:53,855 - INFO: Retrieval Statistics for JsonFile_Scrape/2018/2018_conference_paper_proceeding.json:\n",
      "2024-12-05 07:50:53,856 - INFO: Total Papers: 1032\n",
      "2024-12-05 07:50:53,858 - INFO: Successful Retrievals: 1032\n",
      "2024-12-05 07:50:53,859 - INFO: Failed Retrievals: 0\n",
      "2024-12-05 07:50:53,860 - INFO: Success Rate: 100.00%\n",
      "2024-12-05 07:50:53,928 - INFO: Processing 1146 papers from JsonFile_Scrape/2018/2018_not_conference_paper_proceeding.json\n"
     ]
    },
    {
     "name": "stdout",
     "output_type": "stream",
     "text": [
      "Completed processing: JsonFile_Scrape/2018/2018_conference_paper_proceeding_fetchContentAbstract.json\n",
      "Processing JsonFile_Scrape/2018/2018_not_conference_paper_proceeding.json\n"
     ]
    },
    {
     "name": "stderr",
     "output_type": "stream",
     "text": [
      "Fetching Abstracts: 100%|██████████| 1146/1146 [02:43<00:00,  7.03paper/s]\n",
      "2024-12-05 07:53:37,262 - INFO: Retrieval Statistics for JsonFile_Scrape/2018/2018_not_conference_paper_proceeding.json:\n",
      "2024-12-05 07:53:37,264 - INFO: Total Papers: 1146\n",
      "2024-12-05 07:53:37,265 - INFO: Successful Retrievals: 1146\n",
      "2024-12-05 07:53:37,266 - INFO: Failed Retrievals: 0\n",
      "2024-12-05 07:53:37,267 - INFO: Success Rate: 100.00%\n",
      "2024-12-05 07:53:37,339 - INFO: Processing 1188 papers from JsonFile_Scrape/2019/2019_conference_paper_not_proceeding.json\n"
     ]
    },
    {
     "name": "stdout",
     "output_type": "stream",
     "text": [
      "Completed processing: JsonFile_Scrape/2018/2018_not_conference_paper_proceeding_fetchContentAbstract.json\n",
      "Total processing time: 507.02 seconds\n",
      "Processing JsonFile_Scrape/2019/2019_conference_paper_not_proceeding.json\n"
     ]
    },
    {
     "name": "stderr",
     "output_type": "stream",
     "text": [
      "Fetching Abstracts: 100%|██████████| 1188/1188 [02:54<00:00,  6.82paper/s]\n",
      "2024-12-05 07:56:31,721 - INFO: Retrieval Statistics for JsonFile_Scrape/2019/2019_conference_paper_not_proceeding.json:\n",
      "2024-12-05 07:56:31,722 - INFO: Total Papers: 1188\n",
      "2024-12-05 07:56:31,724 - INFO: Successful Retrievals: 1188\n",
      "2024-12-05 07:56:31,725 - INFO: Failed Retrievals: 0\n",
      "2024-12-05 07:56:31,726 - INFO: Success Rate: 100.00%\n",
      "2024-12-05 07:56:31,794 - INFO: Processing 911 papers from JsonFile_Scrape/2019/2019_conference_paper_proceeding.json\n"
     ]
    },
    {
     "name": "stdout",
     "output_type": "stream",
     "text": [
      "Completed processing: JsonFile_Scrape/2019/2019_conference_paper_not_proceeding_fetchContentAbstract.json\n",
      "Processing JsonFile_Scrape/2019/2019_conference_paper_proceeding.json\n"
     ]
    },
    {
     "name": "stderr",
     "output_type": "stream",
     "text": [
      "Fetching Abstracts: 100%|██████████| 911/911 [02:13<00:00,  6.80paper/s]\n",
      "2024-12-05 07:58:45,941 - INFO: Retrieval Statistics for JsonFile_Scrape/2019/2019_conference_paper_proceeding.json:\n",
      "2024-12-05 07:58:45,943 - INFO: Total Papers: 911\n",
      "2024-12-05 07:58:45,945 - INFO: Successful Retrievals: 911\n",
      "2024-12-05 07:58:45,947 - INFO: Failed Retrievals: 0\n",
      "2024-12-05 07:58:45,948 - INFO: Success Rate: 100.00%\n",
      "2024-12-05 07:58:46,012 - INFO: Processing 1147 papers from JsonFile_Scrape/2019/2019_not_conference_paper_proceeding.json\n"
     ]
    },
    {
     "name": "stdout",
     "output_type": "stream",
     "text": [
      "Completed processing: JsonFile_Scrape/2019/2019_conference_paper_proceeding_fetchContentAbstract.json\n",
      "Processing JsonFile_Scrape/2019/2019_not_conference_paper_proceeding.json\n"
     ]
    },
    {
     "name": "stderr",
     "output_type": "stream",
     "text": [
      "Fetching Abstracts:  47%|████▋     | 538/1147 [01:14<02:12,  4.58paper/s]2024-12-05 08:00:10,490 - ERROR: Error fetching https://api.elsevier.com/content/abstract/scopus_id/85085185551 for DOI 10.1109/ICIIP47207.2019.8985752 (Attempt 1): HTTPSConnectionPool(host='api.elsevier.com', port=443): Read timed out. (read timeout=10)\n",
      "2024-12-05 08:00:10,676 - ERROR: Error fetching https://api.elsevier.com/content/abstract/scopus_id/85085175450 for DOI 10.1109/ICIIP47207.2019.8985744 (Attempt 1): HTTPSConnectionPool(host='api.elsevier.com', port=443): Read timed out. (read timeout=10)\n",
      "2024-12-05 08:00:10,770 - ERROR: Error fetching https://api.elsevier.com/content/abstract/scopus_id/85085164872 for DOI 10.1109/ICIIP47207.2019.8985752 (Attempt 1): HTTPSConnectionPool(host='api.elsevier.com', port=443): Read timed out. (read timeout=10)\n",
      "Fetching Abstracts: 100%|██████████| 1147/1147 [02:58<00:00,  6.41paper/s]\n",
      "2024-12-05 08:01:45,055 - INFO: Retrieval Statistics for JsonFile_Scrape/2019/2019_not_conference_paper_proceeding.json:\n",
      "2024-12-05 08:01:45,057 - INFO: Total Papers: 1147\n",
      "2024-12-05 08:01:45,058 - INFO: Successful Retrievals: 1147\n",
      "2024-12-05 08:01:45,060 - INFO: Failed Retrievals: 0\n",
      "2024-12-05 08:01:45,061 - INFO: Success Rate: 100.00%\n",
      "2024-12-05 08:01:45,128 - INFO: Processing 1168 papers from JsonFile_Scrape/2020/2020_conference_paper_not_proceeding.json\n"
     ]
    },
    {
     "name": "stdout",
     "output_type": "stream",
     "text": [
      "Completed processing: JsonFile_Scrape/2019/2019_not_conference_paper_proceeding_fetchContentAbstract.json\n",
      "Total processing time: 487.79 seconds\n",
      "Processing JsonFile_Scrape/2020/2020_conference_paper_not_proceeding.json\n"
     ]
    },
    {
     "name": "stderr",
     "output_type": "stream",
     "text": [
      "Fetching Abstracts: 100%|██████████| 1168/1168 [02:59<00:00,  6.51paper/s]\n",
      "2024-12-05 08:04:44,886 - INFO: Retrieval Statistics for JsonFile_Scrape/2020/2020_conference_paper_not_proceeding.json:\n",
      "2024-12-05 08:04:44,888 - INFO: Total Papers: 1168\n",
      "2024-12-05 08:04:44,889 - INFO: Successful Retrievals: 1168\n",
      "2024-12-05 08:04:44,890 - INFO: Failed Retrievals: 0\n",
      "2024-12-05 08:04:44,891 - INFO: Success Rate: 100.00%\n",
      "2024-12-05 08:04:44,957 - INFO: Processing 1032 papers from JsonFile_Scrape/2020/2020_conference_paper_proceeding.json\n"
     ]
    },
    {
     "name": "stdout",
     "output_type": "stream",
     "text": [
      "Completed processing: JsonFile_Scrape/2020/2020_conference_paper_not_proceeding_fetchContentAbstract.json\n",
      "Processing JsonFile_Scrape/2020/2020_conference_paper_proceeding.json\n"
     ]
    },
    {
     "name": "stderr",
     "output_type": "stream",
     "text": [
      "Fetching Abstracts: 100%|██████████| 1032/1032 [02:35<00:00,  6.64paper/s]\n",
      "2024-12-05 08:07:20,640 - INFO: Retrieval Statistics for JsonFile_Scrape/2020/2020_conference_paper_proceeding.json:\n",
      "2024-12-05 08:07:20,642 - INFO: Total Papers: 1032\n",
      "2024-12-05 08:07:20,643 - INFO: Successful Retrievals: 1032\n",
      "2024-12-05 08:07:20,644 - INFO: Failed Retrievals: 0\n",
      "2024-12-05 08:07:20,645 - INFO: Success Rate: 100.00%\n",
      "2024-12-05 08:07:20,715 - INFO: Processing 1145 papers from JsonFile_Scrape/2020/2020_not_conference_paper_proceeding.json\n"
     ]
    },
    {
     "name": "stdout",
     "output_type": "stream",
     "text": [
      "Completed processing: JsonFile_Scrape/2020/2020_conference_paper_proceeding_fetchContentAbstract.json\n",
      "Processing JsonFile_Scrape/2020/2020_not_conference_paper_proceeding.json\n"
     ]
    },
    {
     "name": "stderr",
     "output_type": "stream",
     "text": [
      "Fetching Abstracts: 100%|██████████| 1145/1145 [02:45<00:00,  6.92paper/s]\n",
      "2024-12-05 08:10:06,431 - INFO: Retrieval Statistics for JsonFile_Scrape/2020/2020_not_conference_paper_proceeding.json:\n",
      "2024-12-05 08:10:06,433 - INFO: Total Papers: 1145\n",
      "2024-12-05 08:10:06,434 - INFO: Successful Retrievals: 1145\n",
      "2024-12-05 08:10:06,435 - INFO: Failed Retrievals: 0\n",
      "2024-12-05 08:10:06,437 - INFO: Success Rate: 100.00%\n",
      "2024-12-05 08:10:06,518 - INFO: Processing 1224 papers from JsonFile_Scrape/2021/2021_conference_paper_not_proceeding.json\n"
     ]
    },
    {
     "name": "stdout",
     "output_type": "stream",
     "text": [
      "Completed processing: JsonFile_Scrape/2020/2020_not_conference_paper_proceeding_fetchContentAbstract.json\n",
      "Total processing time: 501.38 seconds\n",
      "Processing JsonFile_Scrape/2021/2021_conference_paper_not_proceeding.json\n"
     ]
    },
    {
     "name": "stderr",
     "output_type": "stream",
     "text": [
      "Fetching Abstracts:   3%|▎         | 41/1224 [00:09<04:22,  4.50paper/s]2024-12-05 08:10:16,610 - ERROR: Error fetching https://api.elsevier.com/content/abstract/scopus_id/85127439488 for DOI 10.1075/pc.20027.hei (Attempt 1): HTTPSConnectionPool(host='api.elsevier.com', port=443): Read timed out. (read timeout=10)\n",
      "Fetching Abstracts: 100%|██████████| 1224/1224 [03:08<00:00,  6.48paper/s]\n",
      "2024-12-05 08:13:15,740 - INFO: Retrieval Statistics for JsonFile_Scrape/2021/2021_conference_paper_not_proceeding.json:\n",
      "2024-12-05 08:13:15,742 - INFO: Total Papers: 1224\n",
      "2024-12-05 08:13:15,743 - INFO: Successful Retrievals: 1224\n",
      "2024-12-05 08:13:15,745 - INFO: Failed Retrievals: 0\n",
      "2024-12-05 08:13:15,746 - INFO: Success Rate: 100.00%\n",
      "2024-12-05 08:13:15,814 - INFO: Processing 1085 papers from JsonFile_Scrape/2021/2021_conference_paper_proceeding.json\n"
     ]
    },
    {
     "name": "stdout",
     "output_type": "stream",
     "text": [
      "Completed processing: JsonFile_Scrape/2021/2021_conference_paper_not_proceeding_fetchContentAbstract.json\n",
      "Processing JsonFile_Scrape/2021/2021_conference_paper_proceeding.json\n"
     ]
    },
    {
     "name": "stderr",
     "output_type": "stream",
     "text": [
      "Fetching Abstracts: 100%|██████████| 1085/1085 [02:39<00:00,  6.80paper/s]\n",
      "2024-12-05 08:15:55,546 - INFO: Retrieval Statistics for JsonFile_Scrape/2021/2021_conference_paper_proceeding.json:\n",
      "2024-12-05 08:15:55,550 - INFO: Total Papers: 1085\n",
      "2024-12-05 08:15:55,552 - INFO: Successful Retrievals: 1085\n",
      "2024-12-05 08:15:55,554 - INFO: Failed Retrievals: 0\n",
      "2024-12-05 08:15:55,556 - INFO: Success Rate: 100.00%\n",
      "2024-12-05 08:15:55,624 - INFO: Processing 1248 papers from JsonFile_Scrape/2021/2021_not_conference_paper_proceeding.json\n"
     ]
    },
    {
     "name": "stdout",
     "output_type": "stream",
     "text": [
      "Completed processing: JsonFile_Scrape/2021/2021_conference_paper_proceeding_fetchContentAbstract.json\n",
      "Processing JsonFile_Scrape/2021/2021_not_conference_paper_proceeding.json\n"
     ]
    },
    {
     "name": "stderr",
     "output_type": "stream",
     "text": [
      "Fetching Abstracts: 100%|██████████| 1248/1248 [02:59<00:00,  6.94paper/s]\n",
      "2024-12-05 08:18:55,626 - INFO: Retrieval Statistics for JsonFile_Scrape/2021/2021_not_conference_paper_proceeding.json:\n",
      "2024-12-05 08:18:55,627 - INFO: Total Papers: 1248\n",
      "2024-12-05 08:18:55,629 - INFO: Successful Retrievals: 1248\n",
      "2024-12-05 08:18:55,630 - INFO: Failed Retrievals: 0\n",
      "2024-12-05 08:18:55,631 - INFO: Success Rate: 100.00%\n",
      "2024-12-05 08:18:55,708 - INFO: Processing 1227 papers from JsonFile_Scrape/2022/2022_conference_paper_not_proceeding.json\n"
     ]
    },
    {
     "name": "stdout",
     "output_type": "stream",
     "text": [
      "Completed processing: JsonFile_Scrape/2021/2021_not_conference_paper_proceeding_fetchContentAbstract.json\n",
      "Total processing time: 529.19 seconds\n",
      "Processing JsonFile_Scrape/2022/2022_conference_paper_not_proceeding.json\n"
     ]
    },
    {
     "name": "stderr",
     "output_type": "stream",
     "text": [
      "Fetching Abstracts: 100%|██████████| 1227/1227 [03:06<00:00,  6.59paper/s]\n",
      "2024-12-05 08:22:02,309 - INFO: Retrieval Statistics for JsonFile_Scrape/2022/2022_conference_paper_not_proceeding.json:\n",
      "2024-12-05 08:22:02,310 - INFO: Total Papers: 1227\n",
      "2024-12-05 08:22:02,312 - INFO: Successful Retrievals: 1227\n",
      "2024-12-05 08:22:02,313 - INFO: Failed Retrievals: 0\n",
      "2024-12-05 08:22:02,314 - INFO: Success Rate: 100.00%\n",
      "2024-12-05 08:22:02,382 - INFO: Processing 1073 papers from JsonFile_Scrape/2022/2022_conference_paper_proceeding.json\n"
     ]
    },
    {
     "name": "stdout",
     "output_type": "stream",
     "text": [
      "Completed processing: JsonFile_Scrape/2022/2022_conference_paper_not_proceeding_fetchContentAbstract.json\n",
      "Processing JsonFile_Scrape/2022/2022_conference_paper_proceeding.json\n"
     ]
    },
    {
     "name": "stderr",
     "output_type": "stream",
     "text": [
      "Fetching Abstracts: 100%|██████████| 1073/1073 [02:38<00:00,  6.79paper/s]\n",
      "2024-12-05 08:24:40,611 - INFO: Retrieval Statistics for JsonFile_Scrape/2022/2022_conference_paper_proceeding.json:\n",
      "2024-12-05 08:24:40,613 - INFO: Total Papers: 1073\n",
      "2024-12-05 08:24:40,614 - INFO: Successful Retrievals: 1073\n",
      "2024-12-05 08:24:40,615 - INFO: Failed Retrievals: 0\n",
      "2024-12-05 08:24:40,616 - INFO: Success Rate: 100.00%\n",
      "2024-12-05 08:24:40,679 - INFO: Processing 1239 papers from JsonFile_Scrape/2022/2022_not_conference_paper_proceeding.json\n"
     ]
    },
    {
     "name": "stdout",
     "output_type": "stream",
     "text": [
      "Completed processing: JsonFile_Scrape/2022/2022_conference_paper_proceeding_fetchContentAbstract.json\n",
      "Processing JsonFile_Scrape/2022/2022_not_conference_paper_proceeding.json\n"
     ]
    },
    {
     "name": "stderr",
     "output_type": "stream",
     "text": [
      "Fetching Abstracts: 100%|██████████| 1239/1239 [02:55<00:00,  7.04paper/s]\n",
      "2024-12-05 08:27:36,866 - INFO: Retrieval Statistics for JsonFile_Scrape/2022/2022_not_conference_paper_proceeding.json:\n",
      "2024-12-05 08:27:36,868 - INFO: Total Papers: 1239\n",
      "2024-12-05 08:27:36,869 - INFO: Successful Retrievals: 1239\n",
      "2024-12-05 08:27:36,870 - INFO: Failed Retrievals: 0\n",
      "2024-12-05 08:27:36,871 - INFO: Success Rate: 100.00%\n",
      "2024-12-05 08:27:36,947 - INFO: Processing 1219 papers from JsonFile_Scrape/2023/2023_conference_paper_not_proceeding.json\n"
     ]
    },
    {
     "name": "stdout",
     "output_type": "stream",
     "text": [
      "Completed processing: JsonFile_Scrape/2022/2022_not_conference_paper_proceeding_fetchContentAbstract.json\n",
      "Total processing time: 521.24 seconds\n",
      "Processing JsonFile_Scrape/2023/2023_conference_paper_not_proceeding.json\n"
     ]
    },
    {
     "name": "stderr",
     "output_type": "stream",
     "text": [
      "Fetching Abstracts: 100%|██████████| 1219/1219 [03:12<00:00,  6.34paper/s]\n",
      "2024-12-05 08:30:49,411 - INFO: Retrieval Statistics for JsonFile_Scrape/2023/2023_conference_paper_not_proceeding.json:\n",
      "2024-12-05 08:30:49,412 - INFO: Total Papers: 1219\n",
      "2024-12-05 08:30:49,414 - INFO: Successful Retrievals: 1219\n",
      "2024-12-05 08:30:49,416 - INFO: Failed Retrievals: 0\n",
      "2024-12-05 08:30:49,418 - INFO: Success Rate: 100.00%\n",
      "2024-12-05 08:30:49,478 - INFO: Processing 1143 papers from JsonFile_Scrape/2023/2023_conference_paper_proceeding.json\n"
     ]
    },
    {
     "name": "stdout",
     "output_type": "stream",
     "text": [
      "Completed processing: JsonFile_Scrape/2023/2023_conference_paper_not_proceeding_fetchContentAbstract.json\n",
      "Processing JsonFile_Scrape/2023/2023_conference_paper_proceeding.json\n"
     ]
    },
    {
     "name": "stderr",
     "output_type": "stream",
     "text": [
      "Fetching Abstracts: 100%|██████████| 1143/1143 [02:56<00:00,  6.47paper/s]\n",
      "2024-12-05 08:33:46,428 - INFO: Retrieval Statistics for JsonFile_Scrape/2023/2023_conference_paper_proceeding.json:\n",
      "2024-12-05 08:33:46,430 - INFO: Total Papers: 1143\n",
      "2024-12-05 08:33:46,431 - INFO: Successful Retrievals: 1143\n",
      "2024-12-05 08:33:46,432 - INFO: Failed Retrievals: 0\n",
      "2024-12-05 08:33:46,433 - INFO: Success Rate: 100.00%\n",
      "2024-12-05 08:33:46,502 - INFO: Processing 1246 papers from JsonFile_Scrape/2023/2023_not_conference_paper_proceeding.json\n"
     ]
    },
    {
     "name": "stdout",
     "output_type": "stream",
     "text": [
      "Completed processing: JsonFile_Scrape/2023/2023_conference_paper_proceeding_fetchContentAbstract.json\n",
      "Processing JsonFile_Scrape/2023/2023_not_conference_paper_proceeding.json\n"
     ]
    },
    {
     "name": "stderr",
     "output_type": "stream",
     "text": [
      "Fetching Abstracts: 100%|██████████| 1246/1246 [03:00<00:00,  6.89paper/s]\n",
      "2024-12-05 08:36:47,519 - INFO: Retrieval Statistics for JsonFile_Scrape/2023/2023_not_conference_paper_proceeding.json:\n",
      "2024-12-05 08:36:47,521 - INFO: Total Papers: 1246\n",
      "2024-12-05 08:36:47,522 - INFO: Successful Retrievals: 1246\n",
      "2024-12-05 08:36:47,524 - INFO: Failed Retrievals: 0\n",
      "2024-12-05 08:36:47,525 - INFO: Success Rate: 100.00%\n"
     ]
    },
    {
     "name": "stdout",
     "output_type": "stream",
     "text": [
      "Completed processing: JsonFile_Scrape/2023/2023_not_conference_paper_proceeding_fetchContentAbstract.json\n",
      "Total processing time: 550.65 seconds\n"
     ]
    }
   ],
   "source": [
    "destination_base = \"JsonFile_Scrape\"\n",
    "YEAR = [\"2015\",\"2016\",\"2017\",\"2018\",\"2019\",\"2020\",\"2021\",\"2022\",\"2023\"]\n",
    "MAP_APIKEY = {\"2015\":\"\",\n",
    "              \"2016\":\"\",\n",
    "              \"2017\":\"\",\n",
    "              \"2018\":\"\",\n",
    "              \"2019\":\"\",\n",
    "              \"2020\":\"\",\n",
    "              \"2021\":\"\",\n",
    "              \"2022\":\"\",\n",
    "              \"2023\":\"\"}\n",
    "\n",
    "for year in YEAR:\n",
    "    input_dir = f\"{destination_base}/{year}\"\n",
    "    API_KEY = MAP_APIKEY[year]\n",
    "    main(input_dir, API_KEY)"
   ]
  }
 ],
 "metadata": {
  "kernelspec": {
   "display_name": "dsde-cedt",
   "language": "python",
   "name": "python3"
  },
  "language_info": {
   "codemirror_mode": {
    "name": "ipython",
    "version": 3
   },
   "file_extension": ".py",
   "mimetype": "text/x-python",
   "name": "python",
   "nbconvert_exporter": "python",
   "pygments_lexer": "ipython3",
   "version": "3.11.10"
  }
 },
 "nbformat": 4,
 "nbformat_minor": 2
}
